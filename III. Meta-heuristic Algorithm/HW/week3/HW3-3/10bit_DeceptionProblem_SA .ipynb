{
 "cells": [
  {
   "cell_type": "code",
   "execution_count": 1,
   "id": "2adb2917",
   "metadata": {},
   "outputs": [],
   "source": [
    "# 處理 array\n",
    "import numpy as np\n",
    "\n",
    "# 產生隨機 list，用於隨機產生出一組合法解\n",
    "import random\n",
    "\n",
    "# 計算平方、絕對值\n",
    "import math\n",
    "\n",
    "# data visualisation and manipulation\n",
    "# 畫收斂圖\n",
    "import matplotlib.pyplot as plt"
   ]
  },
  {
   "cell_type": "code",
   "execution_count": 2,
   "id": "b7a22392",
   "metadata": {},
   "outputs": [],
   "source": [
    "# STEP 1 Initialization:\n",
    "# 隨機產生出一組合法解 (至多2的15次方種可能解)\n",
    "\n",
    "def ramdomSolution():\n",
    "    # 隨機生成 10 bits 0/1 長度\n",
    "    string_status = [ random.randint(0,1) for _ in range(n)]\n",
    "    \n",
    "    #計算初始解適應值\n",
    "    current_value = Evaluation(string_status)\n",
    "            \n",
    "    return string_status, current_value"
   ]
  },
  {
   "cell_type": "code",
   "execution_count": 3,
   "id": "8db649c5",
   "metadata": {},
   "outputs": [],
   "source": [
    "# STEP 2 Transition: 產生一個或多個解 隨機 / 左右 移動\n",
    "# 找鄰近解\n",
    "# 採隨機移動 (1)將任一位置 0換成 1 1換成 0 \n",
    "# 採左右移動 (2)將任兩不同值位置 0、1對調  \n",
    "\n",
    "def getNeighbor(solution):\n",
    "    \n",
    "    neightbor_sol = solution.copy()\n",
    "\n",
    "    \"\"\"\n",
    "    # 採左右移動 (1)使解往左走+1或往右走-1 0001->0010 or 0001->0000\n",
    "    # 採左移 +1\n",
    "    # 二進位左移 +1 ，超過歸 bit數 0 (ex: [1, 1, 1, 1] +1 -> [0, 0, 0, 0])\n",
    "    for i in range(n-1,-1,-1):\n",
    "        if(neightbor_sol[i] == 0):\n",
    "            neightbor_sol[i] = 1\n",
    "            break\n",
    "        else:\n",
    "            neightbor_sol[i] = 0\n",
    "    \n",
    "    \"\"\"\n",
    "    # 採隨機移動 (2)隨機找其中一個bit 0換成 1 1換成 0 \n",
    "        \n",
    "    i = random.randint(0,n-1)\n",
    "\n",
    "    # 多一個 1 \n",
    "    if(neightbor_sol[i] == 0):\n",
    "        neightbor_sol[i]=1\n",
    "    # 少一個 1 \n",
    "    else: \n",
    "        neightbor_sol[i] = 0\n",
    " \n",
    "    neighbor_value = Evaluation(neightbor_sol)\n",
    "    \n",
    "    return neightbor_sol, neighbor_value\n"
   ]
  },
  {
   "cell_type": "code",
   "execution_count": 4,
   "id": "c3512f57",
   "metadata": {},
   "outputs": [],
   "source": [
    "# STEP 3 Evaluation: 評估一個或多個解 適應值(Fitness value)大小\n",
    "# 公式為|(二進位轉十進位)-2^(n-2)| ex:1111帶入公式：|15-2^(4-2)|=11\n",
    "\n",
    "def Evaluation(solution):\n",
    "\n",
    "    # 陣列轉字串\n",
    "    str_sol = \"\".join([str(_) for _ in solution])\n",
    "\n",
    "    # str轉int 2進位 轉 10進位\n",
    "    dec_sol = int(str_sol,2)\n",
    "\n",
    "    # 適應值 公式 |(二進位轉十進位)-2^(n-2)|\n",
    "    sol_val = abs( dec_sol - math.pow(2,n-2))\n",
    "    \n",
    "    return sol_val\n",
    "    "
   ]
  },
  {
   "cell_type": "code",
   "execution_count": 5,
   "id": "c99e66d9",
   "metadata": {},
   "outputs": [],
   "source": [
    "# STEP 4 Determination: 將 STEP 3 評估出的適應值與先前的進行比較\n",
    "# 退火環節:\n",
    "# 使用退火溫度(T)和適應值的差值(Δf)計算出允許機率，接著隨機一個0–1的浮點數(r)，若該隨機值(r)≤允許機率則進行更新\n",
    "\n",
    "def simulatedAnnealing(current_sol, currrent_value):\n",
    "    \n",
    "    neightbor_sol, neighbor_value = getNeighbor(current_sol)\n",
    "    #print(\"\\n鄰近解: \" + str(neightbor_sol))\n",
    "    #print(\"鄰近解獲利: \" + str(neighbor_value))\n",
    "\n",
    "    # 鄰近解若優於或等於先前解則更新\n",
    "    if(currrent_value <= neighbor_value):\n",
    "\n",
    "        current_sol = neightbor_sol\n",
    "        currrent_value = neighbor_value\n",
    "\n",
    "    # 若差於先前解則進行退火環節\n",
    "    else:\n",
    "\n",
    "        # 隨機值(r:0~1的浮點數)\n",
    "        r = random.random()\n",
    "\n",
    "        # Δf < 0 ，故找最大值為: 鄰近解 - 先前解\n",
    "        Δf = (neighbor_value - currrent_value)\n",
    "        accept_p = np.exp( (neighbor_value - currrent_value) / current_temperature )\n",
    "\n",
    "        #print(\"r,accept_p,Δf\")\n",
    "        #print(r,accept_p,Δf)\n",
    "        #print(min(r,accept_p))\n",
    "\n",
    "        # 隨機值(r:0~1的浮點數) ≤ 允許機率則進行更新\n",
    "        # e的指數若是一個很小的負值，計算後的值會較接近1，差值較小的情形能有比較大的機率接受更新\n",
    "        if(r <= accept_p):\n",
    "            current_sol = neightbor_sol\n",
    "            currrent_value = neighbor_value\n",
    "            #print(\"接受差值\")\n",
    "    \n",
    "    return current_sol, currrent_value\n",
    "    "
   ]
  },
  {
   "cell_type": "code",
   "execution_count": 6,
   "id": "755197bd",
   "metadata": {},
   "outputs": [],
   "source": [
    "def plotIteration(value_history, iteration):\n",
    "    \n",
    "    iterationTime = iteration\n",
    "\n",
    "    plt.title('circle of average convergence')\n",
    "    plt.plot(range(1, iterationTime + 1), value_history, label='Objective Value')\n",
    "    plt.xlabel('Iteration')\n",
    "    plt.ylabel('Objective Value')\n",
    "    plt.legend()\n",
    "    plt.grid()\n",
    "    plt.show()"
   ]
  },
  {
   "cell_type": "code",
   "execution_count": 7,
   "id": "17b9436f",
   "metadata": {},
   "outputs": [
    {
     "name": "stdout",
     "output_type": "stream",
     "text": [
      "bit 數: 10\n"
     ]
    }
   ],
   "source": [
    "# STEP 0 Setting: 初始參數:\n",
    "\n",
    "global n,iteration,run; \n",
    "\n",
    "# 10 bits\n",
    "n = 10 \n",
    "print(\"bit 數:\",n)\n",
    "\n",
    "# 迭代次數(Iteration)\n",
    "iteration = 1000\n",
    "\n",
    "# 平均迭代1次 run 次數\n",
    "run = 51\n",
    "\n",
    "# 初始溫度(T) 退火溫度\n",
    "current_temperature = 373.0\n",
    "\n",
    "# 退火係數(Rₜ)\n",
    "Rₜ = 0.95"
   ]
  },
  {
   "cell_type": "code",
   "execution_count": 8,
   "id": "8d976f90",
   "metadata": {},
   "outputs": [
    {
     "data": {
      "image/png": "[encoded data removed]",
      "text/plain": [
       "<Figure size 432x288 with 1 Axes>"
      ]
     },
     "metadata": {
      "needs_background": "light"
     },
     "output_type": "display_data"
    },
    {
     "name": "stdout",
     "output_type": "stream",
     "text": [
      "最佳解:  [1, 1, 1, 1, 1, 1, 1, 1, 1, 1]\n",
      "最佳值:  767.0\n",
      "最佳平均解值 767.0\n"
     ]
    }
   ],
   "source": [
    "# 採隨機移動 變數\n",
    "# 採隨機移動 加總 51run 並計算平均\n",
    "avg_val = 0\n",
    "total_val = 0\n",
    "\n",
    "# 紀錄每次採隨機移動迭代的值\n",
    "iteration_history = []\n",
    "\n",
    "# 紀錄採隨機移動最佳解及最佳值\n",
    "best_sol = []\n",
    "best_value = 0\n",
    "\n",
    "# 跑51次run平均1000次迭代\n",
    "for i in range(run):\n",
    "    \n",
    "    # 新的一 run 先清空解暫存\n",
    "    temp_history = []\n",
    "    \n",
    "    # STEP 1 Initial:\n",
    "    # 隨機產生出一組合法解 \n",
    "    current_sol, currrent_value = ramdomSolution()\n",
    "    best_sol, best_value = current_sol, currrent_value\n",
    "\n",
    "    # 迭代 1000 次停止\n",
    "    for k in range(iteration):\n",
    "\n",
    "        current_sol, currrent_value= simulatedAnnealing(current_sol, currrent_value)\n",
    "\n",
    "        # 紀錄採隨機移動每次的值\n",
    "        temp_history.append(currrent_value)\n",
    "        # 紀錄採隨機移動最佳解及最佳值\n",
    "        if(currrent_value > best_value):\n",
    "            best_value = currrent_value\n",
    "            best_sol = current_sol\n",
    "\n",
    "        \n",
    "        # 每次迭代的最後皆需進行降溫動作(T = T * Rₜ)，會將溫度T乘上一個小於1的數值(Rₜ)，Rₜ的數值大小取決於想要的收斂速度\n",
    "        # T (T = T * Rₜ) 會隨著迭代的進行而越來越小，從初始值1開始，隨著迭代不斷下降\n",
    "        # Δf( Δf = 鄰近解 - 先前解) 除上一個小於1的值(T)，會將 Δf 的值放大，變成一個更大的負數\n",
    "        # e的指數若是一個很大的負值，計算後的值會很接近 0，成功更新的機率變得更低\n",
    "        current_temperature = current_temperature * Rₜ\n",
    "\n",
    "    # 紀錄採隨機移動每次迭代的值\n",
    "    iteration_history.append(temp_history)\n",
    "\n",
    "# list 轉 np array 方便平均計算\n",
    "value_history = np.array(iteration_history)\n",
    "\n",
    "# 加總每一行\n",
    "total_val = value_history.sum(axis=0)\n",
    "# 跑 51次平均值\n",
    "avg_val = total_val / run\n",
    "\n",
    "# 畫採隨機移動的平均收斂圖\n",
    "plotIteration(avg_val, iteration)\n",
    "print(\"最佳解: \", best_sol)\n",
    "print(\"最佳值: \" ,best_value)\n",
    "print(\"最佳平均解值\",max(avg_val)) \n",
    "    "
   ]
  }
 ],
 "metadata": {
  "kernelspec": {
   "display_name": "Python 3",
   "language": "python",
   "name": "python3"
  },
  "language_info": {
   "codemirror_mode": {
    "name": "ipython",
    "version": 3
   },
   "file_extension": ".py",
   "mimetype": "text/x-python",
   "name": "python",
   "nbconvert_exporter": "python",
   "pygments_lexer": "ipython3",
   "version": "3.8.8"
  }
 },
 "nbformat": 4,
 "nbformat_minor": 5
}
