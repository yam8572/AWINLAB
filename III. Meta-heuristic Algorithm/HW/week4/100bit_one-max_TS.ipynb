{
 "cells": [
  {
   "cell_type": "code",
   "execution_count": 1,
   "id": "2adb2917",
   "metadata": {},
   "outputs": [],
   "source": [
    "# 處理 array\n",
    "import numpy as np\n",
    "\n",
    "# 產生隨機 list，用於隨機產生出一組合法解\n",
    "import random\n",
    "\n",
    "# data visualisation and manipulation\n",
    "# 畫收斂圖\n",
    "import matplotlib.pyplot as plt"
   ]
  },
  {
   "cell_type": "code",
   "execution_count": 2,
   "id": "b7a22392",
   "metadata": {},
   "outputs": [],
   "source": [
    "# STEP 1 Initialization:\n",
    "# 隨機產生出一組合法解 (至多2的100次方種可能解)\n",
    "\n",
    "def ramdomSolution():\n",
    "    # 隨機生成 100 bits 0/1 長度\n",
    "    rand_sol = [ random.randint(0,1) for _ in range(n)]\n",
    "    # 解值\n",
    "    rand_val = Evaluation(rand_sol)\n",
    "            \n",
    "    return rand_sol, rand_val\n",
    "# n=10\n",
    "# ramdomSolution()"
   ]
  },
  {
   "cell_type": "code",
   "execution_count": 3,
   "id": "8db649c5",
   "metadata": {},
   "outputs": [],
   "source": [
    "# STEP 2 Transition: 產生一個或多個解 隨機 移動\n",
    "# 找鄰近解\n",
    "# 採隨機移動 將任一位置 0換成 1 1換成 0 \n",
    "\n",
    "def Transition(sol):\n",
    "    \n",
    "    neightbor_sol = sol.copy()\n",
    "\n",
    "    # 採隨機移動 (2)隨機找其中一個 bit 0換成 1 1換成 0       \n",
    "    i = random.randint(0,n-1)\n",
    "\n",
    "    # 多一個 1 \n",
    "    if(neightbor_sol[i] == 0):\n",
    "\n",
    "        neightbor_sol[i] = 1\n",
    "\n",
    "    # 少一個 1 \n",
    "    else: \n",
    "        neightbor_sol[i] = 0\n",
    "        \n",
    "    # 鄰近解存在 tabu_list 中 --> 重找鄰近解\n",
    "    if(not checkNotInTabuList(neightbor_sol)):\n",
    "        neightbor_sol = Transition(sol)\n",
    "    \n",
    "    return neightbor_sol\n",
    "    \n",
    "# n=4\n",
    "# getNeighbor([0,1,1,0])\n"
   ]
  },
  {
   "cell_type": "code",
   "execution_count": 4,
   "id": "943d28e4",
   "metadata": {},
   "outputs": [],
   "source": [
    "# STEP 3 Evaluation: 評估一個或多個解 適應值(Objective value)大小\n",
    "\n",
    "def Evaluation(sol):\n",
    "    val = sol.count(1)\n",
    "    return val"
   ]
  },
  {
   "cell_type": "code",
   "execution_count": 5,
   "id": "9a6c9937",
   "metadata": {},
   "outputs": [],
   "source": [
    "# STEP 4 Determination: 將 STEP 3 評估出的適應值與先前的進行比較\n",
    "\n",
    "def Determination(current_sol, current_val, new_sol, new_val):\n",
    "    # 新解值較好 --> 接受新解\n",
    "    if(new_val > current_val):\n",
    "        # print(\"接受新解: \", new_val)\n",
    "        current_sol, current_val = new_sol, new_val\n",
    "    return current_sol, current_val"
   ]
  },
  {
   "cell_type": "code",
   "execution_count": 6,
   "id": "327ca1b7",
   "metadata": {},
   "outputs": [],
   "source": [
    "def checkNotInTabuList(sol):\n",
    "    \n",
    "    # print(\"Check: tabu_list\", tabu_list)\n",
    "    \n",
    "    # 存在 tabu_list 中 --> 產生新鄰近解\n",
    "    if(sol in tabu_list):\n",
    "        # print(sol,\" 存在 tabu_list 中 重找解\")\n",
    "        return False\n",
    "    else:\n",
    "        return True"
   ]
  },
  {
   "cell_type": "code",
   "execution_count": 7,
   "id": "c4587f43",
   "metadata": {},
   "outputs": [],
   "source": [
    "def recordTabuList(sol):\n",
    "    \n",
    "    # tabu list 未滿 直接加進尾端\n",
    "    if(len(tabu_list) < tabu_size):\n",
    "        # print(\"tabu list 未滿 直接加進尾端: \", sol)\n",
    "        tabu_list.append(sol)\n",
    "        \n",
    "    # tabu list 滿 刪第一個再加進尾端\n",
    "    else:\n",
    "        tabu_list.pop(0)\n",
    "        tabu_list.append(sol)\n",
    "        # print(\"tabu list 滿 刪第一個再加進尾端: \", sol)\n",
    "        \n",
    "    # print(\"record tabu_list\", tabu_list)\n",
    "        "
   ]
  },
  {
   "cell_type": "code",
   "execution_count": 8,
   "id": "755197bd",
   "metadata": {},
   "outputs": [],
   "source": [
    "def plotIteration(val_history, iteration):\n",
    "    \n",
    "    iterationTime = iteration\n",
    "\n",
    "    plt.title('circle of average convergence')\n",
    "    plt.plot(range(1, iterationTime + 1), val_history, label='Objective Value')\n",
    "    plt.xlabel('Iteration')\n",
    "    plt.ylabel('Objective Value')\n",
    "    plt.legend()\n",
    "    plt.grid()\n",
    "    plt.show()"
   ]
  },
  {
   "cell_type": "code",
   "execution_count": 9,
   "id": "4d89eab2",
   "metadata": {},
   "outputs": [],
   "source": [
    "# STEP 0 Setting: 初始參數:\n",
    "\n",
    "global n,iteration,run,tabu_list,tabu_size; \n",
    "\n",
    "# 100 bits\n",
    "n = 100\n",
    "\n",
    "# 迭代次數(Iteration)\n",
    "iteration = 1000\n",
    "\n",
    "# 平均迭代1次 run 次數\n",
    "run = 51\n",
    "\n",
    "# 禁忌搜尋列表 列表size設=7\n",
    "tabu_list = []\n",
    "tabu_size = 7\n"
   ]
  },
  {
   "cell_type": "code",
   "execution_count": 10,
   "id": "8d976f90",
   "metadata": {},
   "outputs": [
    {
     "data": {
      "image/png": "[encoded data removed]",
      "text/plain": [
       "<Figure size 432x288 with 1 Axes>"
      ]
     },
     "metadata": {
      "needs_background": "light"
     },
     "output_type": "display_data"
    },
    {
     "name": "stdout",
     "output_type": "stream",
     "text": [
      "最佳解:  [1, 1, 1, 1, 1, 1, 1, 1, 1, 1, 1, 1, 1, 1, 1, 1, 1, 1, 1, 1, 1, 1, 1, 1, 1, 1, 1, 1, 1, 1, 1, 1, 1, 1, 1, 1, 1, 1, 1, 1, 1, 1, 1, 1, 1, 1, 1, 1, 1, 1, 1, 1, 1, 1, 1, 1, 1, 1, 1, 1, 1, 1, 1, 1, 1, 1, 1, 1, 1, 1, 1, 1, 1, 1, 1, 1, 1, 1, 1, 1, 1, 1, 1, 1, 1, 1, 1, 1, 1, 1, 1, 1, 1, 1, 1, 1, 1, 1, 1, 1]\n",
      "最佳值:  100\n",
      "最佳平均解值 100.0\n"
     ]
    }
   ],
   "source": [
    "# 採隨機移動 變數\n",
    "# 採隨機移動 加總 51run 並計算平均\n",
    "rand_avg_val = 0\n",
    "rand_total_val = 0\n",
    "\n",
    "# 紀錄每次採隨機移動迭代的值\n",
    "rand_iteration_history = []\n",
    "\n",
    "# 紀錄採隨機移動最佳解及最佳值\n",
    "rand_best_sol = []\n",
    "rand_best_val = 0\n",
    "\n",
    "# 跑51次run平均1000次迭代\n",
    "for i in range(run):\n",
    "    \n",
    "    # 新的一 run 先清空解暫存 及 tabu list\n",
    "    temp_history = []\n",
    "    tabu_list = []\n",
    "    \n",
    "    # STEP 1 Initial:\n",
    "    # 隨機產生出一組合法解 \n",
    "    rand_current_sol, rand_currrent_val = ramdomSolution()\n",
    "    # 初始解存入 tabu list 中\n",
    "    tabu_list.append(rand_current_sol)\n",
    "    # print(\"初始解: \", rand_current_sol)\n",
    "    # print(\"初始解值: \", rand_currrent_val)\n",
    "\n",
    "    # 迭代 1000 次停止\n",
    "    for k in range(iteration):\n",
    "\n",
    "        # print(\"\\nNO.\",k,\" iteration\")\n",
    "        \n",
    "        # 尚未找到最佳解(全1)\n",
    "        if(rand_currrent_val < n):\n",
    "            # 找鄰近解\n",
    "            neightbor_sol = Transition(rand_current_sol)\n",
    "            # 存入 tabu_list 中\n",
    "            recordTabuList(neightbor_sol)\n",
    "            # 計算鄰近解的 Objective value\n",
    "            neightbor_val = Evaluation(neightbor_sol)\n",
    "\n",
    "            # print(\"新解: \", neightbor_sol)\n",
    "            # print(\"新解值: \", neightbor_val)\n",
    "        \n",
    "        rand_current_sol, rand_currrent_val = Determination(rand_current_sol, rand_currrent_val, neightbor_sol, neightbor_val)\n",
    "        \n",
    "        # 紀錄採隨機移動每次的值\n",
    "        temp_history.append(rand_currrent_val)\n",
    "        # 紀錄採隨機移動最佳解及最佳值\n",
    "        if(rand_currrent_val > rand_best_val):\n",
    "            rand_best_val = rand_currrent_val\n",
    "            rand_best_sol = rand_current_sol\n",
    "        \n",
    "    # 紀錄採隨機移動每次迭代的值\n",
    "    rand_iteration_history.append(temp_history)\n",
    "\n",
    "# list 轉 np array 方便平均計算\n",
    "rand_val_history = np.array(rand_iteration_history)\n",
    "\n",
    "# 加總每一行\n",
    "rand_total_val = rand_val_history.sum(axis=0)\n",
    "# 跑 51次平均值\n",
    "rand_avg_val = rand_total_val / run\n",
    "\n",
    "# 畫採隨機移動的平均收斂圖\n",
    "plotIteration(rand_avg_val, iteration)\n",
    "print(\"最佳解: \", rand_best_sol)\n",
    "print(\"最佳值: \" ,rand_best_val)\n",
    "print(\"最佳平均解值\",max(rand_avg_val)) \n",
    "    \n"
   ]
  }
 ],
 "metadata": {
  "kernelspec": {
   "display_name": "Python 3 (ipykernel)",
   "language": "python",
   "name": "python3"
  },
  "language_info": {
   "codemirror_mode": {
    "name": "ipython",
    "version": 3
   },
   "file_extension": ".py",
   "mimetype": "text/x-python",
   "name": "python",
   "nbconvert_exporter": "python",
   "pygments_lexer": "ipython3",
   "version": "3.9.12"
  }
 },
 "nbformat": 4,
 "nbformat_minor": 5
}
