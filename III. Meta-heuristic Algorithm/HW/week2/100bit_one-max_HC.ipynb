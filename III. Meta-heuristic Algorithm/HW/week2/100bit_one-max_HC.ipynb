{
 "cells": [
  {
   "cell_type": "code",
   "execution_count": 1,
   "id": "2adb2917",
   "metadata": {},
   "outputs": [],
   "source": [
    "# 處理 array\n",
    "import numpy as np\n",
    "\n",
    "# 產生隨機 list，用於隨機產生出一組合法解\n",
    "import random\n",
    "\n",
    "# data visualisation and manipulation\n",
    "# 畫收斂圖\n",
    "import matplotlib.pyplot as plt"
   ]
  },
  {
   "cell_type": "code",
   "execution_count": 2,
   "id": "b7a22392",
   "metadata": {},
   "outputs": [],
   "source": [
    "# STEP 1 Initialization:\n",
    "# 隨機產生出一組合法解 (至多2的100次方種可能解)\n",
    "\n",
    "def ramdomSolution():\n",
    "    # 隨機生成 100 bits 0/1 長度\n",
    "    string_status = [ random.randint(0,1) for _ in range(n)]\n",
    "    currentValue = 0\n",
    "    \n",
    "    for i in range(n):\n",
    "        if(string_status[i] == 1):\n",
    "            currentValue += 1\n",
    "            \n",
    "    return string_status, currentValue\n",
    "# n=100\n",
    "# ramdomSolution()"
   ]
  },
  {
   "cell_type": "code",
   "execution_count": 3,
   "id": "8db649c5",
   "metadata": {},
   "outputs": [],
   "source": [
    "# STEP 2 Transition: 產生一個或多個解 隨機 / 左右 移動\n",
    "# 找鄰近解\n",
    "# 採隨機移動 (1)將任一位置 0換成 1 1換成 0 \n",
    "# 採左右移動 (2)將任兩不同值位置 0、1對調  \n",
    "\n",
    "# STEP 3 Evaluation: 評估一個或多個解 適應值(Objective value)大小\n",
    "\n",
    "def getNeighbor(solution, value, case):\n",
    "    \n",
    "    neightbor_sol = solution.copy()\n",
    "    neighbor_value = value\n",
    "\n",
    "    if(case == 'left'):\n",
    "        # 採左右移動 (1)使解往左走+1或往右走-1 0001->0010 or 0001->0000\n",
    "        # 採左移 +1\n",
    "        # 二進位左移 +1 ，超過歸 bit數 0 (ex: [1, 1, 1, 1] +1 -> [0, 0, 0, 0])\n",
    "\n",
    "        for i in range(n-1,-1,-1):\n",
    "            if(neightbor_sol[i] == 0):\n",
    "                neightbor_sol[i] = 1\n",
    "                neighbor_value += 1\n",
    "                break\n",
    "            else:\n",
    "                neightbor_sol[i] = 0\n",
    "                neighbor_value -= 1\n",
    "    \n",
    "    elif(case == 'random'):\n",
    "        \n",
    "        # 採隨機移動 (2)隨機找其中一個 bit 0換成 1 1換成 0 \n",
    "        i = random.randint(0,n-1)\n",
    "\n",
    "        # 多一個 1 \n",
    "        if(neightbor_sol[i] == 0):\n",
    "\n",
    "            neightbor_sol[i]=1\n",
    "            neighbor_value += 1\n",
    "\n",
    "        # 少一個 1 \n",
    "        else: \n",
    "            neightbor_sol[i] = 0\n",
    "            neighbor_value -= 1\n",
    " \n",
    "    return neightbor_sol, neighbor_value\n",
    "    \n",
    "# n=4\n",
    "# getNeighbor([0,1,1,0],2,'random')\n"
   ]
  },
  {
   "cell_type": "code",
   "execution_count": 4,
   "id": "c99e66d9",
   "metadata": {},
   "outputs": [],
   "source": [
    "# STEP 4 Determination: 將 STEP 3 評估出的適應值與先前的進行比較\n",
    "\n",
    "def hillClimbing(current_sol, currrent_value, case):\n",
    "    \n",
    "    for i in range(run):\n",
    "        neightbor_sol, neighbor_value = getNeighbor(current_sol, currrent_value, case)\n",
    "        #print(\"\\n鄰近解: \" + str(neightbor_sol))\n",
    "        #print(\"鄰近解獲利: \" + str(neighbor_value))\n",
    "\n",
    "        # 鄰近解若優於或等於先前解則更新\n",
    "        if(currrent_value <= neighbor_value):\n",
    "\n",
    "            current_sol = neightbor_sol\n",
    "            currrent_value = neighbor_value\n",
    "    \n",
    "    return current_sol, currrent_value\n",
    "    "
   ]
  },
  {
   "cell_type": "code",
   "execution_count": 5,
   "id": "755197bd",
   "metadata": {},
   "outputs": [],
   "source": [
    "def plotIteration(value_history, iteration):\n",
    "\n",
    "    plt.title('circle of average convergence')\n",
    "    plt.plot(range(1, iteration + 1), value_history, label='Objective Value')\n",
    "    plt.xlabel('Iteration')\n",
    "    plt.ylabel('Objective Value')\n",
    "    plt.legend()\n",
    "    plt.grid()\n",
    "    plt.show()\n"
   ]
  },
  {
   "cell_type": "code",
   "execution_count": 6,
   "id": "8d976f90",
   "metadata": {
    "scrolled": false
   },
   "outputs": [],
   "source": [
    "# main code\n",
    "\n",
    "# STEP 0 Setting: 初始參數:\n",
    "global n,iteration,run; \n",
    "\n",
    "# 100 bits\n",
    "n = 100 \n",
    "\n",
    "# 迭代次數(Iteration)\n",
    "iteration = 1000\n",
    "\n",
    "# run 次數\n",
    "run = 51"
   ]
  },
  {
   "cell_type": "code",
   "execution_count": 7,
   "id": "da38ec48",
   "metadata": {},
   "outputs": [
    {
     "data": {
      "image/png": "[encoded data removed]",
      "text/plain": [
       "<Figure size 432x288 with 1 Axes>"
      ]
     },
     "metadata": {
      "needs_background": "light"
     },
     "output_type": "display_data"
    },
    {
     "name": "stdout",
     "output_type": "stream",
     "text": [
      "採左右移動最佳解:  [0, 0, 1, 1, 1, 0, 0, 1, 1, 0, 1, 1, 0, 0, 0, 0, 1, 1, 1, 0, 1, 1, 0, 1, 1, 0, 0, 1, 1, 0, 0, 1, 0, 1, 0, 1, 1, 1, 0, 0, 0, 0, 0, 1, 0, 0, 1, 1, 1, 1, 1, 0, 0, 1, 0, 1, 1, 1, 1, 1, 1, 1, 1, 1, 1, 1, 1, 1, 0, 1, 0, 1, 0, 0, 1, 0, 1, 0, 0, 0, 1, 1, 0, 1, 0, 1, 1, 1, 0, 1, 0, 1, 1, 1, 1, 1, 1, 1, 1, 1]\n",
      "採左右移動最佳值:  61\n",
      "採左右移動最佳平均解值 50.88235294117647\n"
     ]
    }
   ],
   "source": [
    "# 採左右移動 變數\n",
    "# 採左右移動 加總 51run 並計算平均\n",
    "left_avg_val = 0\n",
    "left_total_val = 0\n",
    "\n",
    "# 紀錄每次採左右移動迭代的值\n",
    "left_iteration_history = []\n",
    "\n",
    "# 紀錄採左右移動最佳解及最佳值\n",
    "left_best_sol = []\n",
    "left_best_value = 0\n",
    "\n",
    "# 跑51次run平均1000次迭代\n",
    "for i in range(run):\n",
    "    \n",
    "    # 新的一 run 先清空解暫存\n",
    "    temp_history = []\n",
    "\n",
    "    # STEP 1 Initial:\n",
    "    # 隨機產生出一組合法解 \n",
    "    left_current_sol, left_currrent_value = ramdomSolution()\n",
    "\n",
    "    # 迭代 1000 次停止\n",
    "    for k in range(iteration):\n",
    "        left_current_sol, left_currrent_value = hillClimbing(left_current_sol, left_currrent_value, \"left\")\n",
    "        # 紀錄採左右移動每次的值\n",
    "        temp_history.append(left_currrent_value)\n",
    "        # 紀錄採左右移動最佳解及最佳值\n",
    "        if(left_currrent_value > left_best_value):\n",
    "            left_best_value = left_currrent_value\n",
    "            left_best_sol = left_current_sol\n",
    "    \n",
    "    # 紀錄採左右移動每次迭代的值\n",
    "    left_iteration_history.append(temp_history)\n",
    "\n",
    "    #print(\"\\n第\" + str(i+1) + \"輪: \")\n",
    "    #print(\"解: \" + str(left_current_sol))\n",
    "    #print(\"解值: \" + str(left_currrent_value))\n",
    "    \n",
    "# list 轉 np array 方便平均計算\n",
    "left_value_history = np.array(left_iteration_history)\n",
    "\n",
    "# 加總每一行\n",
    "left_total_val = left_value_history.sum(axis=0)\n",
    "# 跑 51次平均值\n",
    "left_avg_val = left_total_val / run\n",
    "\n",
    "# 畫採左右移動的平均收斂圖\n",
    "plotIteration(left_avg_val, iteration)\n",
    "print(\"採左右移動最佳解: \", left_best_sol)\n",
    "print(\"採左右移動最佳值: \" ,left_best_value)\n",
    "print(\"採左右移動最佳平均解值\",max(left_avg_val)) \n"
   ]
  },
  {
   "cell_type": "code",
   "execution_count": 8,
   "id": "f1b28002",
   "metadata": {},
   "outputs": [
    {
     "data": {
      "image/png": "[encoded data removed]",
      "text/plain": [
       "<Figure size 432x288 with 1 Axes>"
      ]
     },
     "metadata": {
      "needs_background": "light"
     },
     "output_type": "display_data"
    },
    {
     "name": "stdout",
     "output_type": "stream",
     "text": [
      "採隨機移動最佳解:  [1, 1, 1, 1, 1, 1, 1, 1, 1, 1, 1, 1, 1, 1, 1, 1, 1, 1, 1, 1, 1, 1, 1, 1, 1, 1, 1, 1, 1, 1, 1, 1, 1, 1, 1, 1, 1, 1, 1, 1, 1, 1, 1, 1, 1, 1, 1, 1, 1, 1, 1, 1, 1, 1, 1, 1, 1, 1, 1, 1, 1, 1, 1, 1, 1, 1, 1, 1, 1, 1, 1, 1, 1, 1, 1, 1, 1, 1, 1, 1, 1, 1, 1, 1, 1, 1, 1, 1, 1, 1, 1, 1, 1, 1, 1, 1, 1, 1, 1, 1]\n",
      "採隨機移動最佳值:  100\n",
      "採隨機移動最佳平均解值 100.0\n"
     ]
    }
   ],
   "source": [
    "# 採隨機移動 變數\n",
    "# 採隨機移動 加總 51run 並計算平均\n",
    "rand_avg_val = 0\n",
    "rand_total_val = 0\n",
    "\n",
    "# 紀錄每次採隨機移動迭代的值\n",
    "rand_iteration_history = []\n",
    "\n",
    "# 紀錄採隨機移動最佳解及最佳值\n",
    "rand_best_sol = []\n",
    "rand_best_value = 0\n",
    "\n",
    "# 跑51次run平均1000次迭代\n",
    "for i in range(run):\n",
    "    \n",
    "    # 新的一 run 先清空解暫存\n",
    "    temp_history = []\n",
    "\n",
    "    # STEP 1 Initial:\n",
    "    # 隨機產生出一組合法解 \n",
    "    rand_current_sol, rand_currrent_value = ramdomSolution()\n",
    "\n",
    "    # 迭代 1000 次停止\n",
    "    for k in range(iteration):\n",
    "        rand_current_sol, rand_currrent_value = hillClimbing(rand_current_sol, rand_currrent_value, \"random\")\n",
    "        # 紀錄採隨機移動每次的值\n",
    "        temp_history.append(rand_currrent_value)\n",
    "        # 紀錄採隨機移動最佳解及最佳值\n",
    "        if(rand_currrent_value > rand_best_value):\n",
    "            rand_best_value = rand_currrent_value\n",
    "            rand_best_sol = rand_current_sol\n",
    "    \n",
    "    # 紀錄採隨機移動每次迭代的值\n",
    "    rand_iteration_history.append(temp_history)\n",
    "\n",
    "    #print(\"\\n第\" + str(i+1) + \"輪: \")\n",
    "    #print(\"解: \" + str(rand_current_sol))\n",
    "    #print(\"解值: \" + str(rand_currrent_value))\n",
    "    \n",
    "# list 轉 np array 方便平均計算\n",
    "rand_value_history = np.array(rand_iteration_history)\n",
    "\n",
    "# 加總每一行\n",
    "rand_total_val = rand_value_history.sum(axis=0)\n",
    "# 跑 51次平均值\n",
    "rand_avg_val = rand_total_val / run\n",
    "\n",
    "# 畫採隨機移動的平均收斂圖\n",
    "plotIteration(rand_avg_val, iteration)\n",
    "print(\"採隨機移動最佳解: \", rand_best_sol)\n",
    "print(\"採隨機移動最佳值: \" ,rand_best_value)\n",
    "print(\"採隨機移動最佳平均解值\",max(rand_avg_val)) \n"
   ]
  }
 ],
 "metadata": {
  "kernelspec": {
   "display_name": "Python 3",
   "language": "python",
   "name": "python3"
  },
  "language_info": {
   "codemirror_mode": {
    "name": "ipython",
    "version": 3
   },
   "file_extension": ".py",
   "mimetype": "text/x-python",
   "name": "python",
   "nbconvert_exporter": "python",
   "pygments_lexer": "ipython3",
   "version": "3.8.8"
  }
 },
 "nbformat": 4,
 "nbformat_minor": 5
}
