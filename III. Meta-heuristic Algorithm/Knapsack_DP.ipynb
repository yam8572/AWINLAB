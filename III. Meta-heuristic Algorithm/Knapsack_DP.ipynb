{
 "cells": [
  {
   "cell_type": "code",
   "execution_count": 1,
   "id": "7c74fad1",
   "metadata": {},
   "outputs": [],
   "source": [
    "# 處理 array\n",
    "import numpy as np\n",
    "# 繪表格\n",
    "import matplotlib.pyplot as plt\n",
    "import pandas as pd"
   ]
  },
  {
   "cell_type": "code",
   "execution_count": 2,
   "id": "4850ab42",
   "metadata": {},
   "outputs": [
    {
     "name": "stdout",
     "output_type": "stream",
     "text": [
      "capacity: 750\n",
      "profit: [135, 139, 149, 150, 156, 163, 173, 184, 192, 201, 210, 214, 221, 229, 240]\n",
      "weight: [70, 73, 77, 80, 82, 87, 90, 94, 98, 106, 110, 113, 115, 118, 120]\n",
      "item 數: 15\n",
      "(16, 751)\n"
     ]
    }
   ],
   "source": [
    "# 15 weights and profits for a knapsack of capacity 750, with an optimal profit of 1458(拿總重749).\n",
    "\n",
    "# optimal selection of weights.\n",
    "# s = np.array([1,0,1,0,1,0,1,1,1,0,0,0,0,1,1])\n",
    "\n",
    "global c,w,p,n,dp; \n",
    "w=[]\n",
    "p=[]\n",
    "\n",
    "def init():   #初始化函数\n",
    "\n",
    "    # the knapsack capacity.\n",
    "    file = open('p07_c.txt', 'r')\n",
    "    c = int(file.read())\n",
    "    file.close()\n",
    "    \n",
    "    # the weights of the objects. \n",
    "    file = open('p07_w.txt', 'r')\n",
    "    for line in file.readlines():        \n",
    "        w.append(int(line))\n",
    "    file.close\n",
    "\n",
    "    # the profits of each object.\n",
    "    file = open('p07_p.txt', 'r')\n",
    "    for line in file.readlines():        \n",
    "        p.append(int(line))\n",
    "    file.close\n",
    "    \n",
    "    return c,p,w\n",
    "\n",
    "c,p,w = init()\n",
    "print(\"capacity:\",c)\n",
    "print(\"profit:\",p)\n",
    "print(\"weight:\",w)\n",
    "\n",
    "# 15 objects len(w)\n",
    "n = len(w) \n",
    "print(\"item 數:\",n)\n",
    "\n",
    "# answer table array\n",
    "dp = np.array([[0 for _ in range(c+1)] for _ in range(n+1)])\n",
    "print(dp.shape)"
   ]
  },
  {
   "cell_type": "code",
   "execution_count": 3,
   "id": "afbfcf49",
   "metadata": {},
   "outputs": [],
   "source": [
    "def dp_01knapsack(c, w, p, n):\n",
    "\n",
    "    for i in range(n + 1):\n",
    "        for wt in range(c + 1):\n",
    "            #可拿總重(capacity)為 c=0 or 無物品可拿 n=0 解為 profit=0\n",
    "            if i == 0 or wt == 0:\n",
    "                dp[i][wt] = 0\n",
    "            # 物品 i 超過可拿總重(capacity) 不拿取 物品 i\n",
    "            elif w[i-1] > wt:\n",
    "                dp[i][wt] = dp[i-1][wt]\n",
    "            else:\n",
    "                # max(不拿取物品 i profits, 拿取物品 i profits) 取大值\n",
    "                dp[i][wt] = max(dp[i-1][wt],dp[i-1][wt-w[i-1]] + p[i-1])\n",
    "  \n",
    "    return '可獲最大獲利 : ' + str(dp[n][c])"
   ]
  },
  {
   "cell_type": "code",
   "execution_count": 4,
   "id": "ace56126",
   "metadata": {},
   "outputs": [
    {
     "data": {
      "text/plain": [
       "'可獲最大獲利 : 1458'"
      ]
     },
     "execution_count": 4,
     "metadata": {},
     "output_type": "execute_result"
    }
   ],
   "source": [
    "dp_01knapsack(c, w, p, n)"
   ]
  },
  {
   "cell_type": "code",
   "execution_count": 5,
   "id": "10d8c707",
   "metadata": {},
   "outputs": [
    {
     "name": "stdout",
     "output_type": "stream",
     "text": [
      "背包總重: 750 拿取下列物品 : \n",
      "拿第01件物品 總重: 70 剩餘重量: 680 共獲利:135\n",
      "拿第03件物品 總重: 147 剩餘重量: 603 共獲利:284\n",
      "拿第05件物品 總重: 229 剩餘重量: 521 共獲利:440\n",
      "拿第07件物品 總重: 319 剩餘重量: 431 共獲利:613\n",
      "拿第08件物品 總重: 413 剩餘重量: 337 共獲利:797\n",
      "拿第09件物品 總重: 511 剩餘重量: 239 共獲利:989\n",
      "拿第14件物品 總重: 629 剩餘重量: 121 共獲利:1218\n",
      "拿第15件物品 總重: 749 剩餘重量: 1 共獲利:1458\n"
     ]
    }
   ],
   "source": [
    "#回推拿取那些物品\n",
    "# optimal selection of weights.\n",
    "#s = [1,0,1,0,1,0,1,1,1,0,0,0,0,1,1]\n",
    "\n",
    "s=np.zeros(n)\n",
    "\n",
    "def traceTakeItem(n,c):\n",
    "    for i in range(n,0,-1):\n",
    "        #未拿第 i 件 物品，拿 1 ~ i-1 間得物品\n",
    "        if(dp[i][c]==dp[i-1][c]): \n",
    "            s[i-1]=0\n",
    "        else:\n",
    "            s[i-1]=1\n",
    "            c-=w[i-1]\n",
    "        \n",
    "    return s\n",
    "traceTakeItem(n,c)\n",
    "\n",
    "profit=0\n",
    "weight=0\n",
    "remainder_capacity=c\n",
    "\n",
    "print(\"背包總重: \"+ str(c) +\" 拿取下列物品 : \")\n",
    "for i in range(n):\n",
    "    if(s[i]==1):\n",
    "        item=i+1\n",
    "        if(item<10):item=\"0\"+str(item)\n",
    "        remainder_capacity-=w[i]\n",
    "        weight+=w[i]\n",
    "        profit+=p[i]\n",
    "        \n",
    "        print(\"拿第\" + str(item) + \"件物品 總重: \" + str(weight) + \" 剩餘重量: \" + str(remainder_capacity) +  \" 共獲利:\" + str(profit))"
   ]
  },
  {
   "cell_type": "code",
   "execution_count": 6,
   "id": "1d7949fb",
   "metadata": {},
   "outputs": [
    {
     "name": "stdout",
     "output_type": "stream",
     "text": [
      "                 c=0  c=1  c=2  c=3  c=4  c=5  c=6  c=7  c=8  c=9  ...  c=741  \\\n",
      "0 item             0    0    0    0    0    0    0    0    0    0  ...      0   \n",
      "take 1 item        0    0    0    0    0    0    0    0    0    0  ...    135   \n",
      "take 1~2 items     0    0    0    0    0    0    0    0    0    0  ...    274   \n",
      "take 1~3 items     0    0    0    0    0    0    0    0    0    0  ...    423   \n",
      "take 1~4 items     0    0    0    0    0    0    0    0    0    0  ...    573   \n",
      "take 1~5 items     0    0    0    0    0    0    0    0    0    0  ...    729   \n",
      "take 1~6 items     0    0    0    0    0    0    0    0    0    0  ...    892   \n",
      "take 1~7 items     0    0    0    0    0    0    0    0    0    0  ...   1065   \n",
      "take 1~8 items     0    0    0    0    0    0    0    0    0    0  ...   1249   \n",
      "take 1~9 items     0    0    0    0    0    0    0    0    0    0  ...   1306   \n",
      "take 1~10 items    0    0    0    0    0    0    0    0    0    0  ...   1368   \n",
      "take 1~11 items    0    0    0    0    0    0    0    0    0    0  ...   1418   \n",
      "take 1~12 items    0    0    0    0    0    0    0    0    0    0  ...   1424   \n",
      "take 1~13 items    0    0    0    0    0    0    0    0    0    0  ...   1427   \n",
      "take 1~14 items    0    0    0    0    0    0    0    0    0    0  ...   1429   \n",
      "take 1~15 items    0    0    0    0    0    0    0    0    0    0  ...   1441   \n",
      "\n",
      "                 c=742  c=743  c=744  c=745  c=746  c=747  c=748  c=749  c=750  \n",
      "0 item               0      0      0      0      0      0      0      0      0  \n",
      "take 1 item        135    135    135    135    135    135    135    135    135  \n",
      "take 1~2 items     274    274    274    274    274    274    274    274    274  \n",
      "take 1~3 items     423    423    423    423    423    423    423    423    423  \n",
      "take 1~4 items     573    573    573    573    573    573    573    573    573  \n",
      "take 1~5 items     729    729    729    729    729    729    729    729    729  \n",
      "take 1~6 items     892    892    892    892    892    892    892    892    892  \n",
      "take 1~7 items    1065   1065   1065   1065   1065   1065   1065   1065   1065  \n",
      "take 1~8 items    1249   1249   1249   1249   1249   1249   1249   1249   1249  \n",
      "take 1~9 items    1306   1306   1306   1306   1306   1306   1306   1306   1306  \n",
      "take 1~10 items   1368   1368   1368   1368   1368   1368   1368   1368   1368  \n",
      "take 1~11 items   1422   1422   1428   1428   1428   1429   1429   1429   1429  \n",
      "take 1~12 items   1424   1424   1428   1428   1431   1432   1435   1435   1441  \n",
      "take 1~13 items   1428   1431   1431   1431   1435   1435   1438   1439   1444  \n",
      "take 1~14 items   1433   1433   1439   1439   1439   1443   1443   1446   1446  \n",
      "take 1~15 items   1441   1442   1444   1449   1450   1452   1453   1458   1458  \n",
      "\n",
      "[16 rows x 751 columns]\n"
     ]
    }
   ],
   "source": [
    "solution_table = pd.DataFrame(dp)\n",
    "col_name=[]\n",
    "row_name=[]\n",
    "\n",
    "for i in range(c+1):\n",
    "    col_name.append('c=' + str(i))\n",
    "    \n",
    "#for i in range(len(w)+1):\n",
    "#    if(i==0): row_name.append( str(i) + '件物品可取')\n",
    "#    else: row_name.append('取前' + str(i) + '件物品')\n",
    "\n",
    "for i in range(len(w)+1):\n",
    "    if(i==0): row_name.append( str(i) + ' item')\n",
    "    elif(i==1): row_name.append('take 1 item')\n",
    "    else: row_name.append('take 1~' + str(i) + ' items')\n",
    "    \n",
    "solution_table.columns=col_name\n",
    "solution_table.index=row_name\n",
    "\n",
    "print(solution_table)\n",
    "# 匯出 answer table 成 csv 檔\n",
    "solution_table.to_csv('solution_table.csv')"
   ]
  }
 ],
 "metadata": {
  "kernelspec": {
   "display_name": "Python 3",
   "language": "python",
   "name": "python3"
  },
  "language_info": {
   "codemirror_mode": {
    "name": "ipython",
    "version": 3
   },
   "file_extension": ".py",
   "mimetype": "text/x-python",
   "name": "python",
   "nbconvert_exporter": "python",
   "pygments_lexer": "ipython3",
   "version": "3.8.8"
  }
 },
 "nbformat": 4,
 "nbformat_minor": 5
}
