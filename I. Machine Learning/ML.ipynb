{
 "cells": [
  {
   "cell_type": "code",
   "execution_count": 54,
   "id": "47f0ebfe",
   "metadata": {},
   "outputs": [],
   "source": [
    "import numpy as np #匯入 numpy 方便建立向量（Vector）、矩陣（Matrix）等進行高效率的大量資料運算"
   ]
  },
  {
   "cell_type": "code",
   "execution_count": 55,
   "id": "77160152",
   "metadata": {},
   "outputs": [],
   "source": [
    "import pandas as pd # 表格化資料 用來對資料進行重構、切割、聚合及選擇子集合等操作"
   ]
  },
  {
   "cell_type": "code",
   "execution_count": 56,
   "id": "a394014e",
   "metadata": {},
   "outputs": [],
   "source": [
    "from sklearn import preprocessing #資料標準化"
   ]
  },
  {
   "cell_type": "code",
   "execution_count": 57,
   "id": "bb670ee4",
   "metadata": {},
   "outputs": [],
   "source": [
    "import csv #匯入 csv 模組"
   ]
  },
  {
   "cell_type": "code",
   "execution_count": 58,
   "id": "f36a5e13",
   "metadata": {},
   "outputs": [],
   "source": [
    "from sklearn.model_selection import train_test_split # Splitting train set to train data set and validation data set"
   ]
  },
  {
   "cell_type": "code",
   "execution_count": 59,
   "id": "2d37666d",
   "metadata": {},
   "outputs": [],
   "source": [
    "from sklearn import svm #(a)支援向量機(Support Vector Machine, SVM)"
   ]
  },
  {
   "cell_type": "code",
   "execution_count": 60,
   "id": "9781ff33",
   "metadata": {},
   "outputs": [],
   "source": [
    "from sklearn.neighbors import KNeighborsClassifier # (b)K-近鄰演算法(K-nearest neighbors, KNN):以鄰近點作凝聚，綜合鄰近點，模擬出數據預測值"
   ]
  },
  {
   "cell_type": "code",
   "execution_count": 61,
   "id": "6dcc5dcd",
   "metadata": {},
   "outputs": [],
   "source": [
    "from sklearn.tree import DecisionTreeClassifier #(c)決策樹(Decision Tree, DT)"
   ]
  },
  {
   "cell_type": "code",
   "execution_count": 62,
   "id": "fe8bcdbd",
   "metadata": {},
   "outputs": [],
   "source": [
    "from sklearn.ensemble import RandomForestClassifier #(d)隨機森林(Random Forest, RF)"
   ]
  },
  {
   "cell_type": "code",
   "execution_count": 63,
   "id": "fbea5e49",
   "metadata": {},
   "outputs": [],
   "source": [
    "from sklearn.metrics import confusion_matrix,classification_report,ConfusionMatrixDisplay #混淆矩陣(Confusion matrix)分析"
   ]
  },
  {
   "cell_type": "code",
   "execution_count": 64,
   "id": "16fc616c",
   "metadata": {},
   "outputs": [],
   "source": [
    "from sklearn import metrics #模型分數"
   ]
  },
  {
   "cell_type": "code",
   "execution_count": null,
   "id": "8e6467e1",
   "metadata": {},
   "outputs": [],
   "source": []
  },
  {
   "cell_type": "code",
   "execution_count": 65,
   "id": "a382e7dc",
   "metadata": {},
   "outputs": [],
   "source": [
    "train_file_url= 'Mobile Price Classification/train.csv' # train檔案位置"
   ]
  },
  {
   "cell_type": "code",
   "execution_count": 66,
   "id": "8e5b98de",
   "metadata": {},
   "outputs": [],
   "source": [
    "test_file_url= 'Mobile Price Classification/test.csv' # test檔案位置"
   ]
  },
  {
   "cell_type": "code",
   "execution_count": 67,
   "id": "12247a97",
   "metadata": {},
   "outputs": [],
   "source": [
    "train_data = pd.read_csv(train_file_url); #讀訓練檔"
   ]
  },
  {
   "cell_type": "code",
   "execution_count": 68,
   "id": "0d430a71",
   "metadata": {},
   "outputs": [],
   "source": [
    "test_data = pd.read_csv(test_file_url); #讀測試檔"
   ]
  },
  {
   "cell_type": "code",
   "execution_count": 69,
   "id": "68057550",
   "metadata": {
    "scrolled": true
   },
   "outputs": [
    {
     "data": {
      "text/plain": [
       "battery_power     True\n",
       "blue             False\n",
       "clock_speed      False\n",
       "dual_sim         False\n",
       "fc               False\n",
       "four_g           False\n",
       "int_memory       False\n",
       "m_dep            False\n",
       "mobile_wt        False\n",
       "n_cores          False\n",
       "pc               False\n",
       "px_height         True\n",
       "px_width          True\n",
       "ram               True\n",
       "sc_h             False\n",
       "sc_w             False\n",
       "talk_time        False\n",
       "three_g          False\n",
       "touch_screen     False\n",
       "wifi             False\n",
       "price_range       True\n",
       "Name: price_range, dtype: bool"
      ]
     },
     "execution_count": 69,
     "metadata": {},
     "output_type": "execute_result"
    }
   ],
   "source": [
    "#找出影響價格範圍的屬性(設相關係數 > 0.1 ) battery_power px_height px_width ram \n",
    "#train_data.corr(method ='pearson')['price_range']\n",
    "train_data.corr(method ='pearson')['price_range'].abs() >= 0.1 "
   ]
  },
  {
   "cell_type": "code",
   "execution_count": 70,
   "id": "7b05302a",
   "metadata": {},
   "outputs": [],
   "source": [
    "X_train_data = train_data[[\"ram\",\"battery_power\",\"px_width\",\"px_height\"]]\n",
    "Y_train_data = train_data[[\"price_range\"]] # target: predict price range\n",
    "X_test_data = test_data[[\"ram\",\"battery_power\",\"px_width\",\"px_height\"]]\n",
    "X_train_data = preprocessing.scale(X_train_data) # normalize X_train_data\n",
    "X_test_data = preprocessing.scale(X_test_data) # normalize X_test_data"
   ]
  },
  {
   "cell_type": "code",
   "execution_count": 71,
   "id": "040cb89e",
   "metadata": {},
   "outputs": [],
   "source": [
    "# Splitting the data into train and validation set in 8:2 ;random_state = 42確保每次跑出來的 validation data training data都會一樣\n",
    "X_train, X_valid, y_train, y_valid = train_test_split(X_train_data, Y_train_data, test_size = 0.2, random_state = 42)"
   ]
  },
  {
   "cell_type": "code",
   "execution_count": 72,
   "id": "133cf1d7",
   "metadata": {},
   "outputs": [],
   "source": [
    "#.values will give the values in a numpy array (shape: (n,1)) [[1][2][0]...[2][3][1]]\n",
    "#.ravel will convert that array shape to (n, ) (i.e. flatten it) [1 2 0 ... 2 3 1]\n",
    "y_train = y_train.values.ravel()"
   ]
  },
  {
   "cell_type": "code",
   "execution_count": 73,
   "id": "e409ca41",
   "metadata": {},
   "outputs": [],
   "source": [
    "# 建立 kernel='linear' 模型 C: 限制模型的複雜度，防止過度擬合。\n",
    "svm_model = svm.SVC(kernel='linear', C=1)"
   ]
  },
  {
   "cell_type": "code",
   "execution_count": 74,
   "id": "5388316d",
   "metadata": {},
   "outputs": [
    {
     "data": {
      "text/plain": [
       "SVC(C=1, kernel='linear')"
      ]
     },
     "execution_count": 74,
     "metadata": {},
     "output_type": "execute_result"
    }
   ],
   "source": [
    "# 使用(a)支援向量機 進行訓練\n",
    "svm_model.fit(X_train, y_train)"
   ]
  },
  {
   "cell_type": "code",
   "execution_count": 75,
   "id": "35d012a7",
   "metadata": {},
   "outputs": [
    {
     "name": "stdout",
     "output_type": "stream",
     "text": [
      "訓練集:  0.959375\n",
      "驗證集:  0.9675\n"
     ]
    }
   ],
   "source": [
    "# 預測成功的比例 計算準確率\n",
    "print('訓練集: ',svm_model.score(X_train,y_train))\n",
    "print('驗證集: ',svm_model.score(X_valid,y_valid))"
   ]
  },
  {
   "cell_type": "code",
   "execution_count": 76,
   "id": "59759b85",
   "metadata": {},
   "outputs": [
    {
     "name": "stdout",
     "output_type": "stream",
     "text": [
      "[3 3 2 3 1 3 3 1 3 0 3 3 0 0 2 0 2 1 3 2 1 3 1 1 3 0 2 0 3 0 2 0 3 0 1 1 3\n",
      " 1 2 1 1 2 0 0 0 1 0 3 1 2 1 0 3 0 3 1 3 1 1 3 3 3 0 1 1 1 2 3 1 2 1 2 2 3\n",
      " 3 0 2 0 2 3 0 3 3 0 3 0 3 1 3 0 1 2 2 1 2 2 1 2 1 2 1 0 0 3 0 2 0 1 2 3 3\n",
      " 2 1 3 3 3 3 2 3 0 0 3 2 1 2 0 3 2 3 1 0 2 2 1 3 1 1 0 3 2 1 2 1 2 2 3 3 3\n",
      " 2 3 2 3 1 0 3 2 3 3 3 3 2 2 3 3 3 3 1 0 3 0 0 0 2 1 0 1 0 0 1 2 1 0 0 1 1\n",
      " 2 2 1 0 0 0 1 0 3 1 0 2 2 2 3 1 1 3 2 3 2 2 1 0 0 1 2 0 2 3 3 0 2 0 3 2 3\n",
      " 3 1 0 1 0 3 0 1 0 2 2 1 2 1 3 0 3 1 2 0 0 2 1 3 3 3 1 1 3 0 0 2 3 3 1 3 1\n",
      " 1 3 2 1 2 3 3 3 1 0 0 2 3 1 1 3 2 0 3 0 0 2 1 0 3 2 3 3 2 1 3 3 2 3 1 2 1\n",
      " 2 0 2 3 1 0 0 3 0 3 0 1 2 0 2 3 1 3 2 2 1 2 0 0 0 1 3 2 0 0 0 3 2 0 2 3 1\n",
      " 2 2 2 3 1 3 3 2 2 2 3 3 0 3 0 3 1 3 1 3 3 0 1 0 3 1 3 2 3 0 0 0 0 2 0 0 2\n",
      " 2 1 2 2 2 0 1 0 0 3 2 0 3 1 2 2 1 2 3 1 1 2 2 1 2 0 1 1 0 3 2 1 0 1 0 0 1\n",
      " 1 0 0 0 2 2 3 2 3 0 3 0 3 0 1 1 0 2 0 3 2 3 3 1 3 1 3 1 3 2 0 1 2 1 1 0 0\n",
      " 0 1 2 1 0 3 2 0 2 2 0 0 3 1 2 0 2 3 3 0 3 0 2 3 3 3 0 2 0 2 3 0 1 1 0 0 1\n",
      " 1 1 3 3 3 2 3 1 2 2 3 3 3 2 0 2 1 2 2 1 0 2 2 0 0 0 3 1 0 2 2 2 0 3 1 2 2\n",
      " 1 3 0 2 3 0 1 1 3 3 1 1 1 3 2 0 2 0 2 0 3 3 1 2 2 2 3 0 1 2 3 1 3 2 3 1 1\n",
      " 0 0 3 1 0 3 2 3 2 0 3 3 3 2 3 3 1 2 0 2 2 3 1 0 1 1 2 2 1 0 0 2 2 3 2 0 2\n",
      " 1 3 3 0 1 3 0 2 1 1 0 0 2 1 0 1 1 2 2 0 2 2 1 0 3 0 0 3 2 0 0 0 0 0 3 0 3\n",
      " 1 3 2 1 3 3 0 1 0 3 2 2 2 0 3 0 2 0 2 0 0 1 1 1 2 1 3 1 3 2 2 1 3 2 0 1 2\n",
      " 0 3 3 0 2 1 1 2 0 3 2 0 3 2 3 0 0 3 0 2 2 3 2 2 2 2 1 2 3 0 1 0 1 2 1 0 0\n",
      " 1 0 0 3 1 1 2 0 0 1 1 3 0 3 2 3 0 0 1 2 2 1 0 1 1 0 1 1 0 0 3 3 0 3 1 1 3\n",
      " 0 1 0 2 2 0 3 1 0 3 0 1 0 3 3 3 2 3 0 3 2 0 0 0 2 3 2 0 2 1 3 0 0 3 2 0 3\n",
      " 1 2 1 1 2 3 1 1 1 2 1 0 2 2 0 2 0 0 0 0 2 3 3 3 0 1 2 1 1 0 0 2 1 0 2 0 3\n",
      " 2 2 1 2 0 2 1 3 0 0 3 2 3 0 0 2 3 3 1 2 2 1 0 0 2 3 0 3 0 0 0 2 2 1 2 0 3\n",
      " 3 1 2 3 3 0 1 1 2 1 2 2 0 1 3 1 1 3 0 2 3 2 1 1 1 3 3 0 2 3 0 2 3 3 2 2 3\n",
      " 2 0 1 2 1 2 1 1 2 2 2 1 2 1 0 1 3 1 0 1 2 3 1 0 0 3 2 2 3 0 3 3 2 1 3 0 1\n",
      " 3 1 1 1 1 3 2 0 3 0 2 3 0 3 2 3 3 1 0 2 3 1 0 2 1 2 1 2 0 2 2 0 2 3 2 3 0\n",
      " 2 1 1 2 2 3 3 0 2 1 2 1 3 1 0 3 0 1 0 0 3 3 2 0 0 0 0 3 2 3 3 0 0 2 1 0 2\n",
      " 2]\n"
     ]
    }
   ],
   "source": [
    "# 使用支援向量機 進行預測\n",
    "svm_test_predicted = svm_model.predict(X_test_data)\n",
    "print(svm_test_predicted)"
   ]
  },
  {
   "cell_type": "code",
   "execution_count": 77,
   "id": "3ac84475",
   "metadata": {},
   "outputs": [
    {
     "name": "stdout",
     "output_type": "stream",
     "text": [
      "[0 2 1 3 1 1 2 0 3 1 0 0 2 3 3 2 3 3 1 0 0 1 1 2 0 1 3 2 2 0 0 0 3 0 1 1 2\n",
      " 0 3 0 2 3 2 0 2 2 2 1 3 1 3 1 0 0 1 1 1 3 0 0 1 3 3 1 0 0 3 3 1 2 2 2 0 1\n",
      " 2 0 1 3 2 2 3 2 1 0 1 3 1 3 3 0 3 3 2 1 3 2 2 3 1 1 0 0 1 0 0 3 2 0 1 1 0\n",
      " 0 3 1 3 2 3 2 0 2 1 3 2 1 3 3 0 2 0 2 3 0 2 2 0 3 1 0 0 2 2 1 2 2 0 0 0 1\n",
      " 1 2 3 1 1 0 2 2 0 1 0 2 2 3 3 3 1 0 1 2 2 3 3 0 1 0 3 1 1 2 1 0 0 0 0 0 3\n",
      " 2 0 3 0 0 0 0 1 3 3 1 0 1 1 1 1 2 2 3 3 3 1 2 0 0 0 2 1 1 3 1 0 2 1 1 3 2\n",
      " 3 0 0 2 1 3 0 1 2 0 2 3 2 0 1 3 3 0 1 3 3 3 0 3 1 2 3 3 2 1 1 3 3 1 3 3 3\n",
      " 3 3 0 1 2 2 1 3 0 2 3 2 3 2 1 0 1 0 3 3 1 3 1 0 3 1 2 0 0 3 0 1 2 3 3 3 1\n",
      " 1 0 1 3 3 0 1 2 2 0 3 3 2 3 2 3 2 0 2 1 1 1 0 0 0 2 3 3 1 0 1 0 1 2 3 0 3\n",
      " 3 2 1 3 0 0 2 1 3 2 0 1 1 1 1 1 3 2 0 0 3 3 0 3 0 0 2 0 1 2 2 2 3 0 3 2 2\n",
      " 3 3 3 2 1 1 0 3 1 3 3 0 2 3 2 3 3 3 0 0 2 3 0 0 2 3 2 1 1 2]\n"
     ]
    }
   ],
   "source": [
    "svm_X_predictions = svm_model.predict(X_valid)\n",
    "print(svm_X_predictions)"
   ]
  },
  {
   "cell_type": "code",
   "execution_count": 78,
   "id": "0989df77",
   "metadata": {},
   "outputs": [
    {
     "data": {
      "image/png": "[encoded data removed]",
      "text/plain": [
       "<Figure size 432x288 with 2 Axes>"
      ]
     },
     "metadata": {
      "needs_background": "light"
     },
     "output_type": "display_data"
    }
   ],
   "source": [
    "svm_matrix = confusion_matrix(y_valid,svm_X_predictions)\n",
    "ConfusionMatrixDisplay(svm_matrix,display_labels=svm_model.classes_).plot();"
   ]
  },
  {
   "cell_type": "code",
   "execution_count": 79,
   "id": "505e52db",
   "metadata": {},
   "outputs": [
    {
     "name": "stdout",
     "output_type": "stream",
     "text": [
      "              precision    recall  f1-score   support\n",
      "\n",
      "           0       1.00      0.98      0.99       105\n",
      "           1       0.94      1.00      0.97        91\n",
      "           2       0.96      0.92      0.94        92\n",
      "           3       0.97      0.96      0.97       112\n",
      "\n",
      "    accuracy                           0.97       400\n",
      "   macro avg       0.97      0.97      0.97       400\n",
      "weighted avg       0.97      0.97      0.97       400\n",
      "\n"
     ]
    }
   ],
   "source": [
    "# price_range 分為 4區間\n",
    "print(classification_report(y_valid, svm_X_predictions, labels=[0, 1, 2, 3])) "
   ]
  },
  {
   "cell_type": "code",
   "execution_count": null,
   "id": "26e3c833",
   "metadata": {},
   "outputs": [],
   "source": []
  },
  {
   "cell_type": "code",
   "execution_count": 80,
   "id": "0958f691",
   "metadata": {},
   "outputs": [],
   "source": [
    "# n_neighbors int, default=5 代表某資料在定義標籤時會參考最靠近的五筆資料\n",
    "knn_model = KNeighborsClassifier() "
   ]
  },
  {
   "cell_type": "code",
   "execution_count": 81,
   "id": "9a45d924",
   "metadata": {},
   "outputs": [
    {
     "data": {
      "text/plain": [
       "KNeighborsClassifier()"
      ]
     },
     "execution_count": 81,
     "metadata": {},
     "output_type": "execute_result"
    }
   ],
   "source": [
    "# 使用(b)K-近鄰演算法 進行訓練\n",
    "knn_model.fit(X_train,y_train) "
   ]
  },
  {
   "cell_type": "code",
   "execution_count": 82,
   "id": "d5547bc2",
   "metadata": {},
   "outputs": [
    {
     "name": "stdout",
     "output_type": "stream",
     "text": [
      "訓練集:  0.930625\n",
      "驗證集:  0.915\n"
     ]
    }
   ],
   "source": [
    "# 預測成功的比例 計算準確率\n",
    "print('訓練集: ',knn_model.score(X_train,y_train))\n",
    "print('驗證集: ',knn_model.score(X_valid,y_valid))"
   ]
  },
  {
   "cell_type": "code",
   "execution_count": 83,
   "id": "4a5ca2d4",
   "metadata": {},
   "outputs": [
    {
     "name": "stdout",
     "output_type": "stream",
     "text": [
      "[3 3 2 3 1 3 3 1 3 0 3 3 0 0 2 0 2 1 3 2 1 2 1 1 3 0 2 0 3 0 2 0 3 0 0 1 3\n",
      " 1 2 0 1 2 0 0 0 1 0 3 1 2 1 0 3 0 3 1 3 1 1 3 3 2 0 2 0 1 2 3 1 2 1 2 2 3\n",
      " 3 0 2 0 1 3 0 3 3 0 3 0 3 1 3 1 1 2 2 1 1 2 0 2 1 2 1 1 0 3 0 2 0 1 2 3 3\n",
      " 2 1 3 3 3 3 1 3 0 0 3 2 1 1 0 3 2 3 2 0 2 1 1 3 1 2 0 3 2 1 3 1 3 2 3 3 2\n",
      " 2 3 2 3 0 0 3 2 3 3 3 3 2 2 3 3 3 3 1 0 3 0 0 0 2 1 0 1 0 0 0 2 1 0 0 1 1\n",
      " 2 2 1 0 0 0 1 0 3 1 0 2 2 2 3 1 1 3 2 3 2 2 1 1 0 1 2 0 2 3 3 0 2 0 3 2 3\n",
      " 3 0 0 1 0 3 0 1 0 2 2 1 2 0 3 0 3 1 2 0 0 2 1 3 3 3 1 1 3 0 0 2 3 3 1 3 1\n",
      " 1 3 2 1 2 3 3 3 1 0 0 2 3 2 1 3 2 1 3 0 0 3 0 0 3 3 3 3 2 1 3 3 2 3 1 2 1\n",
      " 2 0 2 3 1 0 0 3 0 3 0 1 2 0 2 3 1 3 2 2 1 2 0 0 0 1 3 2 0 0 0 3 2 0 2 3 1\n",
      " 2 2 2 3 1 3 3 1 2 2 3 3 1 3 0 3 1 3 1 3 3 0 1 0 3 1 3 1 3 0 0 0 0 2 0 0 2\n",
      " 2 1 2 2 2 0 1 0 0 3 2 0 3 1 2 2 1 1 3 1 1 2 2 1 2 0 1 1 0 3 2 1 0 1 0 0 1\n",
      " 1 0 1 0 2 2 3 2 3 0 2 0 3 0 1 1 1 1 0 3 2 3 2 1 3 1 3 1 3 2 0 1 1 1 1 0 0\n",
      " 0 1 2 1 0 2 2 0 2 2 0 0 3 1 2 1 2 3 3 0 3 0 2 3 3 3 0 2 0 1 2 0 2 1 0 0 1\n",
      " 1 1 3 3 3 2 3 1 2 2 3 3 3 1 0 2 1 2 2 1 0 2 2 0 0 0 3 1 0 2 2 2 0 3 0 2 2\n",
      " 0 3 0 2 3 0 1 1 3 3 1 1 2 3 2 0 3 1 2 0 3 3 1 2 2 2 3 0 1 2 3 1 3 2 3 1 1\n",
      " 1 0 3 1 0 3 2 3 2 0 3 3 3 2 3 3 1 2 0 2 2 3 1 0 1 1 2 2 1 0 0 2 2 3 2 0 2\n",
      " 1 3 3 0 1 3 0 2 1 1 0 0 2 1 0 1 1 1 2 1 2 2 1 0 3 0 0 3 2 0 0 0 0 0 3 0 3\n",
      " 1 3 2 1 3 3 0 1 0 3 2 2 2 0 3 0 2 0 2 0 0 2 1 1 2 1 3 1 3 2 3 1 3 2 0 2 2\n",
      " 0 3 3 0 2 1 1 2 0 3 2 0 3 2 3 0 0 3 0 2 2 3 2 2 2 3 1 1 3 0 1 1 1 3 1 0 0\n",
      " 1 0 0 3 1 1 2 0 0 1 1 3 0 3 2 3 0 1 1 2 1 1 0 1 1 0 1 1 0 0 3 3 0 3 1 2 3\n",
      " 0 1 0 2 2 0 3 1 0 3 1 1 0 2 3 3 2 3 0 3 2 0 1 1 2 3 2 0 1 1 2 1 0 2 2 0 3\n",
      " 1 2 1 1 1 3 1 1 1 2 0 0 2 2 0 3 0 0 1 0 2 3 3 3 0 1 2 2 1 0 0 2 1 0 2 0 2\n",
      " 2 2 1 2 0 2 1 3 0 0 3 1 3 0 0 2 3 3 0 2 2 1 0 0 3 3 0 3 0 0 0 2 2 1 3 0 3\n",
      " 3 1 2 3 3 0 2 1 2 1 2 2 0 1 3 1 1 3 0 2 3 2 1 1 1 3 3 0 2 3 0 2 3 2 2 2 3\n",
      " 2 0 1 2 1 2 1 1 2 2 2 1 2 1 1 1 3 1 0 1 2 3 1 0 0 3 2 2 3 0 3 3 2 1 3 0 1\n",
      " 3 1 1 1 1 3 2 0 3 0 2 3 0 3 2 2 3 1 0 2 3 1 0 2 1 2 1 2 0 2 2 0 2 3 2 3 0\n",
      " 2 1 1 2 2 3 3 0 2 1 2 1 3 1 1 3 0 1 0 0 3 2 2 0 0 0 0 3 2 3 3 0 0 2 2 0 2\n",
      " 2]\n"
     ]
    }
   ],
   "source": [
    "# 使用 K-近鄰演算法 進行預測\n",
    "knn_test_predicted=knn_model.predict(X_test_data)\n",
    "print(knn_test_predicted)"
   ]
  },
  {
   "cell_type": "code",
   "execution_count": 84,
   "id": "ce58679b",
   "metadata": {},
   "outputs": [
    {
     "name": "stdout",
     "output_type": "stream",
     "text": [
      "[0 2 1 3 1 1 2 0 2 1 0 0 2 3 2 2 3 3 1 0 0 1 1 2 0 1 2 2 2 0 0 0 3 0 2 1 2\n",
      " 0 3 0 2 3 2 0 2 2 2 1 3 1 3 1 0 0 0 0 1 3 0 0 1 3 3 1 0 0 3 3 1 2 2 2 0 1\n",
      " 2 0 1 3 2 2 3 2 1 0 1 3 1 3 3 0 3 3 2 1 3 2 2 3 1 1 0 0 1 0 1 3 2 0 1 1 0\n",
      " 0 3 1 2 2 3 2 0 2 1 3 2 1 3 3 0 2 0 2 3 0 2 2 0 3 1 0 1 2 3 1 2 2 0 0 0 1\n",
      " 1 2 3 1 1 0 2 2 0 1 0 1 2 3 3 2 1 0 1 2 2 3 3 0 1 0 3 1 2 2 1 0 0 0 0 0 3\n",
      " 2 0 3 0 0 0 0 1 3 2 1 0 1 1 1 1 2 2 2 2 3 1 2 0 0 0 2 1 1 3 1 0 3 1 1 3 2\n",
      " 3 0 0 1 1 3 0 1 2 0 2 3 2 0 1 3 3 0 1 3 3 3 0 3 1 2 3 3 2 1 0 3 3 1 3 3 3\n",
      " 3 3 0 2 2 2 1 3 0 1 2 2 2 2 1 0 1 0 3 3 1 3 1 0 3 1 2 0 0 2 0 1 2 3 3 3 1\n",
      " 1 0 1 3 3 1 1 2 2 0 3 3 2 3 2 3 2 0 2 1 1 1 0 0 1 3 2 3 1 0 1 0 1 2 3 0 3\n",
      " 3 2 1 3 0 0 2 1 3 2 0 1 1 1 0 1 3 2 0 0 3 3 0 3 0 0 2 0 1 2 2 2 3 0 3 2 2\n",
      " 3 3 3 2 1 1 0 3 1 3 3 0 2 3 2 3 3 3 1 0 2 3 1 0 2 3 2 1 1 2]\n"
     ]
    }
   ],
   "source": [
    "knn_X_predictions = knn_model.predict(X_valid)\n",
    "print(knn_X_predictions)"
   ]
  },
  {
   "cell_type": "code",
   "execution_count": 85,
   "id": "3d6968f7",
   "metadata": {},
   "outputs": [
    {
     "data": {
      "image/png": "[encoded data removed]",
      "text/plain": [
       "<Figure size 432x288 with 2 Axes>"
      ]
     },
     "metadata": {
      "needs_background": "light"
     },
     "output_type": "display_data"
    }
   ],
   "source": [
    "knn_matrix = confusion_matrix(y_valid,knn_X_predictions)\n",
    "ConfusionMatrixDisplay(knn_matrix,display_labels=knn_model.classes_).plot();"
   ]
  },
  {
   "cell_type": "code",
   "execution_count": 86,
   "id": "947790d1",
   "metadata": {},
   "outputs": [
    {
     "name": "stdout",
     "output_type": "stream",
     "text": [
      "              precision    recall  f1-score   support\n",
      "\n",
      "           0       0.98      0.94      0.96       105\n",
      "           1       0.87      0.95      0.91        91\n",
      "           2       0.84      0.89      0.86        92\n",
      "           3       0.97      0.88      0.93       112\n",
      "\n",
      "    accuracy                           0.92       400\n",
      "   macro avg       0.91      0.92      0.91       400\n",
      "weighted avg       0.92      0.92      0.92       400\n",
      "\n"
     ]
    }
   ],
   "source": [
    "# price_range 分為 4區間\n",
    "print(classification_report(y_valid, knn_X_predictions, labels=[0, 1, 2, 3])) "
   ]
  },
  {
   "cell_type": "code",
   "execution_count": null,
   "id": "e59c6807",
   "metadata": {},
   "outputs": [],
   "source": []
  },
  {
   "cell_type": "code",
   "execution_count": 87,
   "id": "18186821",
   "metadata": {},
   "outputs": [],
   "source": [
    "# criterion{“gini”, “entropy”, “log_loss”}, default=”gini”\n",
    "# max_depthint, default=None \n",
    "# None, then nodes are expanded until all leaves are pure or until all leaves contain less than min_samples_split samples.(default=2)\n",
    "DTree_model = DecisionTreeClassifier()"
   ]
  },
  {
   "cell_type": "code",
   "execution_count": 88,
   "id": "caadecf9",
   "metadata": {},
   "outputs": [
    {
     "data": {
      "text/plain": [
       "DecisionTreeClassifier()"
      ]
     },
     "execution_count": 88,
     "metadata": {},
     "output_type": "execute_result"
    }
   ],
   "source": [
    "# 使用(c)決策樹 進行訓練\n",
    "DTree_model.fit(X_train,y_train) "
   ]
  },
  {
   "cell_type": "code",
   "execution_count": 89,
   "id": "c6655ee5",
   "metadata": {},
   "outputs": [
    {
     "name": "stdout",
     "output_type": "stream",
     "text": [
      "訓練集:  1.0\n",
      "驗證集:  0.855\n"
     ]
    }
   ],
   "source": [
    "# 預測成功的比例 計算準確率\n",
    "print('訓練集: ',DTree_model.score(X_train,y_train))\n",
    "print('驗證集: ',DTree_model.score(X_valid,y_valid))"
   ]
  },
  {
   "cell_type": "code",
   "execution_count": 90,
   "id": "c5d27d74",
   "metadata": {},
   "outputs": [
    {
     "name": "stdout",
     "output_type": "stream",
     "text": [
      "[3 3 2 3 1 3 3 1 3 0 3 3 0 0 3 0 2 1 3 2 0 2 2 1 3 0 2 0 3 0 2 0 3 0 1 1 3\n",
      " 1 2 1 1 2 0 0 0 1 0 3 1 2 1 0 2 0 3 1 3 1 1 3 3 3 0 2 1 1 1 2 1 2 1 2 2 3\n",
      " 3 0 2 0 2 3 0 3 3 1 3 0 3 1 2 0 1 2 2 0 2 1 0 2 1 3 1 0 0 3 1 2 0 1 2 3 3\n",
      " 2 1 3 3 3 3 2 3 0 0 3 1 1 2 0 3 2 3 2 0 2 1 1 3 0 1 0 3 2 1 3 1 2 2 3 3 2\n",
      " 2 3 3 3 0 0 3 2 3 3 3 3 2 2 3 3 3 3 1 0 3 0 0 0 2 1 0 1 1 0 1 3 1 0 0 1 1\n",
      " 2 2 1 0 0 0 0 1 3 2 0 2 2 2 3 1 1 3 3 3 2 1 0 0 0 1 2 0 2 3 3 0 2 0 3 2 3\n",
      " 3 1 0 1 0 3 0 1 0 2 2 1 3 1 3 0 3 1 2 0 0 2 1 3 3 3 2 1 3 0 0 2 3 3 1 3 1\n",
      " 1 3 2 1 2 3 3 3 1 1 1 2 3 1 1 3 2 0 3 0 1 2 0 0 3 3 3 2 2 1 3 2 2 3 2 2 1\n",
      " 2 0 2 3 1 0 0 3 0 3 0 1 2 0 2 3 1 3 2 2 1 2 0 0 0 1 3 2 0 0 0 3 2 0 2 3 0\n",
      " 3 2 2 3 1 3 3 2 2 2 3 3 0 3 1 3 1 3 1 3 3 0 1 1 3 1 3 2 3 0 0 0 0 2 0 0 2\n",
      " 1 1 2 2 2 0 1 0 0 3 2 0 3 1 2 2 1 2 3 1 1 2 2 1 2 0 1 1 0 3 2 1 0 1 0 0 1\n",
      " 1 0 0 0 2 2 3 1 3 0 2 0 3 0 1 1 1 1 0 3 2 3 3 1 3 1 3 1 3 2 0 2 2 2 1 0 0\n",
      " 1 1 2 1 0 3 2 0 2 2 0 0 3 1 1 1 2 3 3 0 3 0 2 3 2 3 0 2 0 2 3 1 1 2 0 0 1\n",
      " 1 1 3 3 3 2 2 1 2 2 2 3 3 2 0 2 1 2 2 1 0 2 3 0 0 0 3 1 1 2 2 2 0 3 0 2 2\n",
      " 0 3 0 2 3 0 1 1 3 3 1 1 1 3 2 0 2 1 2 0 3 3 1 2 2 2 3 0 1 2 3 1 3 2 3 1 1\n",
      " 1 0 3 2 0 3 2 3 2 0 3 3 3 3 3 2 1 2 1 2 3 3 1 0 0 1 1 2 1 0 0 2 2 3 2 0 2\n",
      " 1 3 2 0 1 3 0 2 1 1 0 0 2 1 0 1 1 2 2 0 2 2 1 0 3 0 0 3 2 0 0 0 0 0 3 0 3\n",
      " 1 3 2 1 3 3 0 1 1 3 2 3 2 0 3 0 2 0 2 0 1 1 1 1 2 1 3 1 3 2 2 1 3 2 1 1 2\n",
      " 0 3 3 0 2 1 1 2 0 3 2 0 3 2 3 0 0 3 0 1 2 3 2 2 2 2 1 2 3 0 1 1 1 2 2 0 0\n",
      " 1 0 0 3 0 0 2 0 1 1 1 3 0 3 2 3 0 1 1 2 2 1 0 1 1 0 1 1 0 0 3 3 0 3 1 2 3\n",
      " 0 1 0 2 1 0 3 1 0 3 0 1 0 3 3 3 2 3 0 3 2 0 1 0 3 3 2 0 2 2 3 1 0 3 2 0 3\n",
      " 1 2 1 1 1 3 1 1 1 2 0 0 1 2 0 2 0 1 1 0 3 3 3 3 0 1 2 2 1 0 0 2 1 0 2 0 2\n",
      " 2 2 1 2 0 1 1 3 0 0 3 1 3 0 0 2 2 3 1 2 2 1 0 0 2 3 0 3 0 0 1 2 2 1 2 0 3\n",
      " 2 1 2 2 3 0 1 1 2 1 2 2 0 1 3 1 1 3 1 2 3 1 2 0 1 3 3 0 2 3 0 2 3 2 3 2 3\n",
      " 2 0 1 3 0 2 1 1 2 2 2 1 2 1 1 2 3 1 0 1 1 3 1 0 0 2 2 2 3 0 3 2 2 1 3 0 1\n",
      " 3 1 2 1 2 3 3 0 3 0 2 3 0 2 2 3 3 1 1 2 3 1 0 2 1 2 1 2 0 2 3 0 2 3 2 3 0\n",
      " 1 1 1 2 3 2 2 0 2 1 2 1 3 0 0 3 0 1 0 0 3 3 2 0 0 0 0 3 2 3 2 0 0 2 1 0 2\n",
      " 2]\n"
     ]
    }
   ],
   "source": [
    "# 使用 決策樹 進行預測\n",
    "Dtree_test_predicted = DTree_model.predict(X_test_data)\n",
    "print(Dtree_test_predicted)"
   ]
  },
  {
   "cell_type": "code",
   "execution_count": 91,
   "id": "ce89c9b2",
   "metadata": {},
   "outputs": [
    {
     "name": "stdout",
     "output_type": "stream",
     "text": [
      "[0 2 1 3 1 1 2 0 2 1 0 1 2 3 2 2 3 3 1 0 0 1 1 2 0 1 3 2 2 0 0 0 3 0 1 1 2\n",
      " 1 3 0 2 3 2 0 2 2 1 1 2 1 3 1 0 0 1 1 1 3 0 0 1 3 3 1 0 0 3 3 1 2 2 2 0 1\n",
      " 3 0 0 3 2 2 3 2 1 0 1 3 2 3 3 0 3 3 2 1 3 2 2 3 1 1 0 0 1 1 0 3 2 0 1 1 0\n",
      " 0 2 2 2 2 3 2 0 2 1 3 2 1 3 3 0 3 1 2 3 0 2 2 0 3 1 0 0 2 3 1 3 2 0 0 0 1\n",
      " 2 3 3 2 1 0 2 2 0 1 0 2 2 3 2 3 1 0 1 2 2 3 3 1 0 0 3 1 2 2 1 1 0 0 0 0 3\n",
      " 2 0 3 0 0 0 0 1 3 3 1 0 1 1 1 1 1 2 2 3 3 1 2 0 0 0 2 1 1 3 1 1 3 1 1 3 2\n",
      " 3 0 0 2 1 3 0 1 2 0 2 3 2 0 1 3 3 0 1 3 3 3 0 3 1 2 3 3 2 1 1 3 3 1 3 3 3\n",
      " 3 3 1 1 2 3 1 3 0 1 3 2 2 2 1 0 2 0 2 3 1 3 1 0 3 1 2 0 0 3 0 1 3 3 3 3 0\n",
      " 1 0 1 3 3 0 1 2 2 0 3 3 2 3 1 3 2 0 2 1 2 1 0 0 1 3 2 3 1 0 1 1 1 2 3 1 3\n",
      " 3 2 1 2 0 0 3 1 3 3 0 1 1 1 1 1 3 1 0 0 3 3 0 3 0 0 2 0 1 2 2 2 3 0 2 2 2\n",
      " 3 3 3 2 1 2 0 3 2 3 3 0 2 3 2 3 3 3 1 0 2 3 0 0 2 3 1 1 1 2]\n"
     ]
    }
   ],
   "source": [
    "DTree_X_predictions = DTree_model.predict(X_valid)\n",
    "print(DTree_X_predictions)"
   ]
  },
  {
   "cell_type": "code",
   "execution_count": 92,
   "id": "d1d373e4",
   "metadata": {},
   "outputs": [
    {
     "data": {
      "image/png": "[encoded data removed]",
      "text/plain": [
       "<Figure size 432x288 with 2 Axes>"
      ]
     },
     "metadata": {
      "needs_background": "light"
     },
     "output_type": "display_data"
    }
   ],
   "source": [
    "DTree_matrix = confusion_matrix(y_valid,DTree_X_predictions)\n",
    "ConfusionMatrixDisplay(DTree_matrix,display_labels=DTree_model.classes_).plot();"
   ]
  },
  {
   "cell_type": "code",
   "execution_count": 93,
   "id": "a5cc191a",
   "metadata": {},
   "outputs": [
    {
     "name": "stdout",
     "output_type": "stream",
     "text": [
      "              precision    recall  f1-score   support\n",
      "\n",
      "           0       0.97      0.87      0.91       105\n",
      "           1       0.78      0.88      0.82        91\n",
      "           2       0.77      0.78      0.78        92\n",
      "           3       0.90      0.88      0.89       112\n",
      "\n",
      "    accuracy                           0.85       400\n",
      "   macro avg       0.85      0.85      0.85       400\n",
      "weighted avg       0.86      0.85      0.86       400\n",
      "\n"
     ]
    }
   ],
   "source": [
    "# price_range 分為 4區間\n",
    "print(classification_report(y_valid, DTree_X_predictions, labels=[0, 1, 2, 3])) "
   ]
  },
  {
   "cell_type": "code",
   "execution_count": null,
   "id": "f7abcba6",
   "metadata": {},
   "outputs": [],
   "source": []
  },
  {
   "cell_type": "code",
   "execution_count": 94,
   "id": "ff79a9ff",
   "metadata": {},
   "outputs": [],
   "source": [
    "# n_estimators(default=100) The number of trees in the forest.\n",
    "# max_depthint, default=None \n",
    "# None, then nodes are expanded until all leaves are pure or until all leaves contain less than min_samples_split samples.(default=2)\n",
    "RForest_model = RandomForestClassifier()"
   ]
  },
  {
   "cell_type": "code",
   "execution_count": 95,
   "id": "8252ffb6",
   "metadata": {},
   "outputs": [
    {
     "data": {
      "text/plain": [
       "RandomForestClassifier()"
      ]
     },
     "execution_count": 95,
     "metadata": {},
     "output_type": "execute_result"
    }
   ],
   "source": [
    "# 使用(d) 隨機森林 進行訓練\n",
    "RForest_model.fit(X_train,y_train) "
   ]
  },
  {
   "cell_type": "code",
   "execution_count": 96,
   "id": "e427274a",
   "metadata": {},
   "outputs": [
    {
     "name": "stdout",
     "output_type": "stream",
     "text": [
      "訓練集:  1.0\n",
      "驗證集:  0.935\n"
     ]
    }
   ],
   "source": [
    "# 預測成功的比例 計算準確率\n",
    "print('訓練集: ',RForest_model.score(X_train,y_train))\n",
    "print('驗證集: ',RForest_model.score(X_valid,y_valid))"
   ]
  },
  {
   "cell_type": "code",
   "execution_count": 97,
   "id": "53daf6aa",
   "metadata": {},
   "outputs": [
    {
     "name": "stdout",
     "output_type": "stream",
     "text": [
      "[3 3 2 3 1 3 3 1 3 0 3 3 0 0 2 0 2 1 3 2 1 2 1 1 3 0 2 0 3 0 2 0 3 0 0 1 3\n",
      " 1 2 1 1 2 0 0 0 1 0 3 1 2 1 0 3 0 3 1 3 1 1 3 3 2 0 2 1 1 1 3 1 2 1 2 2 3\n",
      " 3 0 2 0 2 3 1 3 3 0 3 0 3 1 3 0 1 2 2 0 2 2 0 2 1 2 1 0 0 3 0 2 0 1 2 3 3\n",
      " 2 1 3 3 3 3 2 3 0 0 3 2 1 1 0 3 2 3 1 0 2 1 1 3 1 1 0 3 2 1 3 1 3 2 3 3 2\n",
      " 2 3 2 3 0 0 3 2 3 3 3 3 2 2 3 3 3 3 1 0 3 0 0 0 2 1 0 1 0 0 1 2 1 0 0 1 1\n",
      " 2 2 1 0 0 0 1 0 3 1 0 2 2 2 3 1 2 3 2 3 2 2 1 0 0 1 2 0 2 3 3 0 2 0 3 2 3\n",
      " 3 1 0 1 0 3 0 1 0 2 2 1 2 1 3 0 3 1 2 0 0 2 1 3 3 3 1 1 3 0 0 2 3 3 1 3 1\n",
      " 1 3 2 1 2 3 3 3 1 0 1 2 3 2 1 3 2 0 3 0 1 2 0 0 3 2 3 3 2 1 3 3 2 3 1 2 1\n",
      " 2 0 2 3 1 0 0 3 0 3 0 1 2 0 2 3 1 3 2 2 1 2 0 0 0 1 3 2 0 0 0 3 2 0 2 3 1\n",
      " 2 2 2 3 1 3 3 2 2 2 3 3 0 3 1 3 1 3 1 3 3 0 1 0 3 1 3 2 3 0 0 0 0 2 0 0 2\n",
      " 2 1 2 2 2 0 1 0 0 3 2 0 3 1 2 2 1 2 3 1 1 2 2 1 2 0 1 1 0 3 2 0 0 1 0 0 1\n",
      " 1 0 0 0 2 2 3 1 3 0 3 0 3 0 1 1 1 2 0 3 2 3 3 1 3 1 3 1 3 2 1 2 2 1 2 0 0\n",
      " 0 1 2 1 0 3 2 0 2 2 0 0 3 1 1 0 3 2 3 0 3 0 2 3 3 3 0 2 0 2 3 0 1 1 0 0 1\n",
      " 1 1 3 3 3 2 3 1 2 2 3 3 3 2 0 2 1 2 2 1 0 2 2 0 0 0 3 1 1 2 2 2 0 3 0 2 2\n",
      " 0 3 0 2 3 0 1 1 3 3 1 1 2 3 2 0 2 1 2 0 3 3 1 2 2 2 3 0 1 2 3 1 3 2 3 1 1\n",
      " 1 0 3 1 0 3 2 3 2 0 3 3 3 2 3 3 1 2 1 2 3 3 1 0 1 1 2 2 1 0 0 2 2 3 2 0 2\n",
      " 1 3 3 0 1 3 0 2 1 1 0 0 2 1 0 1 1 2 2 0 2 2 1 0 3 0 0 3 2 0 0 0 0 0 3 0 3\n",
      " 1 3 2 1 3 3 0 1 1 3 2 3 2 0 3 0 2 0 2 0 1 1 1 1 2 1 3 1 3 2 2 1 3 2 0 2 2\n",
      " 0 3 3 0 2 1 1 2 0 3 2 0 3 2 3 0 0 3 0 2 2 3 2 2 2 2 1 2 3 0 1 1 1 2 1 0 0\n",
      " 1 0 0 3 0 1 1 0 0 1 1 3 0 3 2 3 0 0 1 2 2 1 0 1 1 0 1 1 0 0 3 3 0 3 1 2 3\n",
      " 0 1 0 2 2 0 3 1 0 3 0 1 0 3 3 3 2 3 0 3 2 0 0 0 3 3 2 0 2 1 3 1 0 3 2 0 3\n",
      " 1 2 1 1 1 3 1 1 1 2 0 0 1 2 0 2 0 0 0 0 2 3 3 3 0 1 2 2 1 0 0 2 1 0 2 0 2\n",
      " 2 2 1 2 0 2 1 3 0 0 3 1 3 0 0 2 3 3 1 2 2 1 0 0 2 3 0 3 0 0 0 2 2 1 2 0 3\n",
      " 2 1 2 3 3 0 1 1 2 1 2 2 0 1 3 1 1 3 1 2 3 1 1 1 2 3 3 0 2 3 0 2 3 2 2 2 3\n",
      " 2 0 1 2 0 2 1 1 2 2 2 1 2 1 0 1 3 1 0 1 2 3 1 0 0 2 2 2 3 0 3 3 2 1 3 0 1\n",
      " 3 1 2 1 2 3 2 0 3 0 2 3 0 2 2 2 3 1 0 2 3 1 0 2 1 2 1 2 0 2 2 0 2 3 2 3 0\n",
      " 2 1 1 2 2 3 3 0 2 1 2 1 3 1 0 3 0 1 0 0 3 2 2 0 0 0 0 3 2 3 2 0 0 2 1 0 2\n",
      " 2]\n"
     ]
    }
   ],
   "source": [
    "# 使用 隨機森林 進行預測\n",
    "RForest_test_predicted = RForest_model.predict(X_test_data)\n",
    "print(RForest_test_predicted)"
   ]
  },
  {
   "cell_type": "code",
   "execution_count": 98,
   "id": "2b0cad06",
   "metadata": {},
   "outputs": [
    {
     "name": "stdout",
     "output_type": "stream",
     "text": [
      "[0 2 1 3 1 1 2 0 3 1 0 1 2 3 2 2 3 3 1 0 0 1 1 2 0 1 3 2 2 0 0 0 3 0 1 1 2\n",
      " 0 3 0 2 3 2 0 3 2 2 1 3 1 3 1 0 0 1 1 1 3 0 0 1 3 3 1 0 0 3 3 1 2 2 2 0 1\n",
      " 2 0 0 3 2 2 3 2 1 0 1 3 1 3 3 0 3 3 2 1 3 2 2 3 1 1 0 0 1 0 0 3 2 0 1 1 0\n",
      " 0 3 1 2 2 3 2 0 2 1 3 2 1 3 3 0 3 0 2 3 0 2 2 0 3 1 0 0 2 3 0 2 2 0 0 0 1\n",
      " 1 2 3 1 1 0 2 2 0 1 0 1 2 3 3 3 1 0 1 2 2 3 3 1 1 0 3 1 1 2 1 0 0 0 0 0 3\n",
      " 2 0 3 0 0 0 0 1 3 3 1 0 1 1 1 1 2 2 3 3 3 1 2 0 0 0 2 1 1 3 1 0 2 1 1 3 2\n",
      " 3 0 0 2 1 2 0 1 2 0 2 3 2 0 1 3 3 0 1 3 3 3 0 3 1 2 3 3 2 1 1 3 3 1 3 3 3\n",
      " 3 3 0 1 2 2 1 3 0 2 3 2 2 2 1 0 1 0 3 3 1 3 1 0 3 1 2 0 0 3 0 1 2 3 3 3 1\n",
      " 1 0 1 3 3 0 1 2 2 0 3 3 2 3 2 3 2 0 2 1 1 1 0 0 0 3 2 3 1 0 1 0 1 2 3 0 3\n",
      " 3 2 1 2 0 0 2 1 3 2 0 1 1 1 1 1 3 2 0 0 3 3 0 3 0 0 2 0 1 2 2 2 3 0 3 2 2\n",
      " 3 3 3 2 1 2 0 3 1 3 3 0 2 3 2 3 3 3 0 0 2 3 0 0 2 3 1 1 1 2]\n"
     ]
    }
   ],
   "source": [
    "RForest_X_predictions = RForest_model.predict(X_valid)\n",
    "print(RForest_X_predictions)"
   ]
  },
  {
   "cell_type": "code",
   "execution_count": 99,
   "id": "aa8b6944",
   "metadata": {},
   "outputs": [
    {
     "data": {
      "image/png": "[encoded data removed]",
      "text/plain": [
       "<Figure size 432x288 with 2 Axes>"
      ]
     },
     "metadata": {
      "needs_background": "light"
     },
     "output_type": "display_data"
    }
   ],
   "source": [
    "RForest_matrix = confusion_matrix(y_valid,RForest_X_predictions)\n",
    "ConfusionMatrixDisplay(RForest_matrix,display_labels=RForest_model.classes_).plot();"
   ]
  },
  {
   "cell_type": "code",
   "execution_count": 100,
   "id": "9c5bf208",
   "metadata": {},
   "outputs": [
    {
     "name": "stdout",
     "output_type": "stream",
     "text": [
      "              precision    recall  f1-score   support\n",
      "\n",
      "           0       0.98      0.96      0.97       105\n",
      "           1       0.90      0.97      0.93        91\n",
      "           2       0.90      0.88      0.89        92\n",
      "           3       0.95      0.93      0.94       112\n",
      "\n",
      "    accuracy                           0.94       400\n",
      "   macro avg       0.93      0.93      0.93       400\n",
      "weighted avg       0.94      0.94      0.94       400\n",
      "\n"
     ]
    }
   ],
   "source": [
    "# price_range 分為 4區間\n",
    "print(classification_report(y_valid, RForest_X_predictions, labels=[0, 1, 2, 3])) "
   ]
  }
 ],
 "metadata": {
  "kernelspec": {
   "display_name": "Python 3",
   "language": "python",
   "name": "python3"
  },
  "language_info": {
   "codemirror_mode": {
    "name": "ipython",
    "version": 3
   },
   "file_extension": ".py",
   "mimetype": "text/x-python",
   "name": "python",
   "nbconvert_exporter": "python",
   "pygments_lexer": "ipython3",
   "version": "3.8.8"
  }
 },
 "nbformat": 4,
 "nbformat_minor": 5
}
